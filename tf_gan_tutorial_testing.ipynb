{
  "nbformat": 4,
  "nbformat_minor": 0,
  "metadata": {
    "colab": {
      "provenance": [],
      "authorship_tag": "ABX9TyOwMeR9F7MY3ibcQ9rd6NaV",
      "include_colab_link": true
    },
    "kernelspec": {
      "name": "python3",
      "display_name": "Python 3"
    },
    "language_info": {
      "name": "python"
    }
  },
  "cells": [
    {
      "cell_type": "markdown",
      "metadata": {
        "id": "view-in-github",
        "colab_type": "text"
      },
      "source": [
        "<a href=\"https://colab.research.google.com/github/phsieg/gan_artwork_open/blob/main/tf_gan_tutorial_testing.ipynb\" target=\"_parent\"><img src=\"https://colab.research.google.com/assets/colab-badge.svg\" alt=\"Open In Colab\"/></a>"
      ]
    },
    {
      "cell_type": "markdown",
      "source": [
        "# README\n",
        "This notebook is for testing the tutorial at https://www.tensorflow.org/tutorials/generative/cyclegan"
      ],
      "metadata": {
        "id": "lAYSDhbwl7Hz"
      }
    },
    {
      "cell_type": "markdown",
      "source": [
        "# Find Local Modules Help"
      ],
      "metadata": {
        "id": "V9P1Uk0ggBxL"
      }
    },
    {
      "cell_type": "code",
      "source": [
        "help('modules')"
      ],
      "metadata": {
        "id": "PiCs-v2KgKBF"
      },
      "execution_count": null,
      "outputs": []
    },
    {
      "cell_type": "markdown",
      "source": [
        "# Testing Pad"
      ],
      "metadata": {
        "id": "WPn0PN9jpaNJ"
      }
    },
    {
      "cell_type": "code",
      "source": [
        "#band = read_single_binary_file('./band.jpg')\n",
        "#band = read_multiple_binary_files('./test_folder/')\n",
        "band = read_multiple_binary_files('test_folder')\n",
        "band = read_multiple_binary_files('test_folder/Untitled Folder')\n"
      ],
      "metadata": {
        "colab": {
          "base_uri": "https://localhost:8080/"
        },
        "id": "0n47C73Ypeha",
        "outputId": "d9642dbf-b92b-4884-c9fc-7aecd4573a25"
      },
      "execution_count": 29,
      "outputs": [
        {
          "output_type": "stream",
          "name": "stdout",
          "text": [
            "test_folder/Untitled Folder is not a defined image file, i.e. JPG, IMG or PNG\n",
            "test_folder/Portrait_duo.jpg has been read succesfully!\n",
            "test_folder/Portrait_duo_artifact_triangles.jpg.png has been read succesfully!\n",
            "test_folder/Untitled Folder/anscombe.json is not a defined image file, i.e. JPG, IMG or PNG\n"
          ]
        }
      ]
    },
    {
      "cell_type": "markdown",
      "source": [
        "# File handling"
      ],
      "metadata": {
        "id": "MaRmFOsdfHAI"
      }
    },
    {
      "cell_type": "code",
      "execution_count": 28,
      "metadata": {
        "id": "IRrNDpPId-UP"
      },
      "outputs": [],
      "source": [
        "from posixpath import splitext\n",
        "from pathlib import Path\n",
        "\n",
        "knownImageFileTypes = ['.jpg', '.jpeg', '.JPG', '.JPEG', '.png', \\\n",
        "'.PNG', '.img', '.IMG']\n",
        "\n",
        "def read_multiple_binary_files(path):\n",
        "  p = Path(path)\n",
        "  list_of_files = []\n",
        "  for child in p.iterdir():\n",
        "    try:\n",
        "      if is_Image_File(child):\n",
        "        file_binaries = read_single_binary_file(child)\n",
        "        list_of_files.append(file_binaries)\n",
        "        print(str(child) + \" has been read succesfully!\")\n",
        "      else:\n",
        "        print(str(child) + \" is not a defined image file, i.e. JPG, IMG or PNG\")\n",
        "    except IsADirectoryError as N:\n",
        "      print(str(child) + \" is not a file! Error caught: \" + str(N))\n",
        "  return list_of_files\n",
        "\n",
        "#def read_multiple_binary_files(path):\n",
        "#  p = Path(path)\n",
        "#  list_of_files = []\n",
        "#  for child in p.iterdir():\n",
        "#    if child.is_file:\n",
        "#      file_binaries = read_single_binary_file(child)\n",
        "#      list_of_files.append(file_binaries)\n",
        "#    else: \n",
        "#      print(str(child) + \" is not a file. Skipping.\")\n",
        "#  return list_of_files\n",
        "      \n",
        "def is_Image_File(path):\n",
        "  isImage = False\n",
        "  if splitext(path)[1] in knownImageFileTypes:\n",
        "    isImage = True\n",
        "  return isImage\n",
        "\n",
        "def read_single_binary_file(path):\n",
        "  with open(path, 'rb') as f:\n",
        "    return f.read()\n",
        "  \n",
        "def write_single_binary_file(path):\n",
        "  with open(path, 'wb') as f:\n",
        "    f.write()"
      ]
    },
    {
      "cell_type": "markdown",
      "source": [
        "# Tensorflow"
      ],
      "metadata": {
        "id": "ZfX64-Lsj62W"
      }
    },
    {
      "cell_type": "code",
      "source": [
        "import tensorflow as tf\n",
        "# for drawing generated images by plotting\n",
        "import matplotlib.pyplot as plt "
      ],
      "metadata": {
        "id": "8R1c3EnHj_Mj"
      },
      "execution_count": null,
      "outputs": []
    },
    {
      "cell_type": "markdown",
      "source": [
        "# Program Execution\n"
      ],
      "metadata": {
        "id": "HleFCRdTl0wy"
      }
    },
    {
      "cell_type": "code",
      "source": [
        "isle = read_single_binary_file('.data/input/isle.png')\n",
        "bandfoto = read_single_binary_file('.data/input/band.png')\n",
        "\n",
        "# do ML stuff here ...\n",
        "\n",
        "write_single_binary_file('.data/output/artwork.png')"
      ],
      "metadata": {
        "id": "DfxTzWKrmGp4"
      },
      "execution_count": null,
      "outputs": []
    }
  ]
}