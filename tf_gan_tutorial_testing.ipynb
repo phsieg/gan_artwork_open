{
  "nbformat": 4,
  "nbformat_minor": 0,
  "metadata": {
    "colab": {
      "provenance": [],
      "authorship_tag": "ABX9TyOyzAYhdl9++/Mv/xKlHsrV",
      "include_colab_link": true
    },
    "kernelspec": {
      "name": "python3",
      "display_name": "Python 3"
    },
    "language_info": {
      "name": "python"
    }
  },
  "cells": [
    {
      "cell_type": "markdown",
      "metadata": {
        "id": "view-in-github",
        "colab_type": "text"
      },
      "source": [
        "<a href=\"https://colab.research.google.com/github/phsieg/gan_artwork_open/blob/main/tf_gan_tutorial_testing.ipynb\" target=\"_parent\"><img src=\"https://colab.research.google.com/assets/colab-badge.svg\" alt=\"Open In Colab\"/></a>"
      ]
    },
    {
      "cell_type": "markdown",
      "source": [
        "# README\n",
        "This notebook is for testing the tutorial at https://www.tensorflow.org/tutorials/generative/cyclegan"
      ],
      "metadata": {
        "id": "lAYSDhbwl7Hz"
      }
    },
    {
      "cell_type": "markdown",
      "source": [
        "# Find Local Modules Help"
      ],
      "metadata": {
        "id": "V9P1Uk0ggBxL"
      }
    },
    {
      "cell_type": "code",
      "source": [
        "help('modules')"
      ],
      "metadata": {
        "id": "PiCs-v2KgKBF"
      },
      "execution_count": null,
      "outputs": []
    },
    {
      "cell_type": "markdown",
      "source": [
        "# Testing Pad"
      ],
      "metadata": {
        "id": "WPn0PN9jpaNJ"
      }
    },
    {
      "cell_type": "code",
      "source": [
        "band = read_single_binary_file('./band.jpg')\n",
        "band = read_multiple_binary_files('./test_folder/')\n"
      ],
      "metadata": {
        "colab": {
          "base_uri": "https://localhost:8080/"
        },
        "id": "0n47C73Ypeha",
        "outputId": "378e2588-4662-406d-ca14-473887519b5b"
      },
      "execution_count": null,
      "outputs": [
        {
          "output_type": "stream",
          "name": "stdout",
          "text": [
            "test_folder/IMG-20191121-WA0001.jpg is not a file. Skipping.\n",
            "test_folder/Portrait_duo_artifact_triangles_2.jpg is not a file. Skipping.\n",
            "test_folder/test_folder2 is not a file. Skipping.\n",
            "test_folder/.ipynb_checkpoints is not a file. Skipping.\n"
          ]
        }
      ]
    },
    {
      "cell_type": "markdown",
      "source": [
        "# File handling"
      ],
      "metadata": {
        "id": "MaRmFOsdfHAI"
      }
    },
    {
      "cell_type": "code",
      "execution_count": null,
      "metadata": {
        "id": "IRrNDpPId-UP"
      },
      "outputs": [],
      "source": [
        "from pathlib import Path\n",
        "\n",
        "def read_multiple_binary_files(path):\n",
        "  p = Path(path)\n",
        "  for child in p.iterdir():\n",
        "    if child.is_dir:\n",
        "      print(str(child) + \" is not a file. Skipping.\")\n",
        "    else: \n",
        "      read_single_binary_file(child)\n",
        "\n",
        "def read_single_binary_file(path):\n",
        "  with open(path, 'rb') as f:\n",
        "    return f.read()\n",
        "  \n",
        "def write_single_binary_file(path):\n",
        "  with open(path, 'wb') as f:\n",
        "    f.write()"
      ]
    },
    {
      "cell_type": "markdown",
      "source": [
        "# Tensorflow"
      ],
      "metadata": {
        "id": "ZfX64-Lsj62W"
      }
    },
    {
      "cell_type": "code",
      "source": [
        "import tensorflow as tf\n",
        "# for drawing generated images by plotting\n",
        "import matplotlib.pyplot as plt "
      ],
      "metadata": {
        "id": "8R1c3EnHj_Mj"
      },
      "execution_count": null,
      "outputs": []
    },
    {
      "cell_type": "markdown",
      "source": [
        "# Program Execution\n"
      ],
      "metadata": {
        "id": "HleFCRdTl0wy"
      }
    },
    {
      "cell_type": "code",
      "source": [
        "isle = read_single_binary_file('.data/input/isle.png')\n",
        "bandfoto = read_single_binary_file('.data/input/band.png')\n",
        "\n",
        "# do ML stuff here ...\n",
        "\n",
        "write_single_binary_file('.data/output/artwork.png')"
      ],
      "metadata": {
        "id": "DfxTzWKrmGp4"
      },
      "execution_count": null,
      "outputs": []
    }
  ]
}