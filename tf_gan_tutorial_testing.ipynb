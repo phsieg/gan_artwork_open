{
  "nbformat": 4,
  "nbformat_minor": 0,
  "metadata": {
    "colab": {
      "provenance": [],
      "authorship_tag": "ABX9TyP3cSvoUah3vu90Omyh+Kis",
      "include_colab_link": true
    },
    "kernelspec": {
      "name": "python3",
      "display_name": "Python 3"
    },
    "language_info": {
      "name": "python"
    }
  },
  "cells": [
    {
      "cell_type": "markdown",
      "metadata": {
        "id": "view-in-github",
        "colab_type": "text"
      },
      "source": [
        "<a href=\"https://colab.research.google.com/github/phsieg/gan_artwork_open/blob/main/tf_gan_tutorial_testing.ipynb\" target=\"_parent\"><img src=\"https://colab.research.google.com/assets/colab-badge.svg\" alt=\"Open In Colab\"/></a>"
      ]
    },
    {
      "cell_type": "markdown",
      "source": [
        "# README\n",
        "This notebook is for testing the tutorial at https://www.tensorflow.org/tutorials/generative/dcgan"
      ],
      "metadata": {
        "id": "lAYSDhbwl7Hz"
      }
    },
    {
      "cell_type": "markdown",
      "source": [
        "# Find Local Modules Help"
      ],
      "metadata": {
        "id": "V9P1Uk0ggBxL"
      }
    },
    {
      "cell_type": "code",
      "source": [
        "help('modules')"
      ],
      "metadata": {
        "colab": {
          "base_uri": "https://localhost:8080/"
        },
        "id": "PiCs-v2KgKBF",
        "outputId": "7d00ed6e-3c18-43f9-e41e-fef7cdc235ae"
      },
      "execution_count": 6,
      "outputs": [
        {
          "output_type": "stream",
          "name": "stdout",
          "text": [
            "\n",
            "Please wait a moment while I gather a list of all available modules...\n",
            "\n"
          ]
        },
        {
          "output_type": "stream",
          "name": "stderr",
          "text": [
            "/usr/local/lib/python3.7/dist-packages/IPython/kernel/__init__.py:13: ShimWarning: The `IPython.kernel` package has been deprecated since IPython 4.0.You should import from ipykernel or jupyter_client instead.\n",
            "  \"You should import from ipykernel or jupyter_client instead.\", ShimWarning)\n",
            "/usr/local/lib/python3.7/dist-packages/llvmlite/llvmpy/__init__.py:4: UserWarning: The module `llvmlite.llvmpy` is deprecated and will be removed in the future.\n",
            "  \"The module `llvmlite.llvmpy` is deprecated and will be removed in the \"\n",
            "/usr/local/lib/python3.7/dist-packages/llvmlite/llvmpy/core.py:9: UserWarning: The module `llvmlite.llvmpy.core` is deprecated and will be removed in the future. Equivalent functionality is provided by `llvmlite.ir`.\n",
            "  \"The module `llvmlite.llvmpy.core` is deprecated and will be removed in \"\n",
            "WARNING: AstropyDeprecationWarning: The private astropy._erfa module has been made into its own package, pyerfa, which is a dependency of astropy and can be imported directly using \"import erfa\" [astropy._erfa]\n",
            "WARNING:astropy:AstropyDeprecationWarning: The private astropy._erfa module has been made into its own package, pyerfa, which is a dependency of astropy and can be imported directly using \"import erfa\"\n",
            "/usr/local/lib/python3.7/dist-packages/caffe2/__init__.py:5: UserWarning: Caffe2 support is not fully enabled in this PyTorch build. Please enable Caffe2 by building PyTorch from source with `BUILD_CAFFE2=1` flag.\n",
            "  warnings.warn(\"Caffe2 support is not fully enabled in this PyTorch build. \"\n",
            "/usr/local/lib/python3.7/dist-packages/caffe2/proto/__init__.py:17: UserWarning: Caffe2 support is not enabled in this PyTorch build. Please enable Caffe2 by building PyTorch from source with `BUILD_CAFFE2=1` flag.\n",
            "  warnings.warn('Caffe2 support is not enabled in this PyTorch build. '\n",
            "/usr/local/lib/python3.7/dist-packages/caffe2/proto/__init__.py:17: UserWarning: Caffe2 support is not enabled in this PyTorch build. Please enable Caffe2 by building PyTorch from source with `BUILD_CAFFE2=1` flag.\n",
            "  warnings.warn('Caffe2 support is not enabled in this PyTorch build. '\n",
            "/usr/local/lib/python3.7/dist-packages/caffe2/python/__init__.py:9: UserWarning: Caffe2 support is not enabled in this PyTorch build. Please enable Caffe2 by building PyTorch from source with `BUILD_CAFFE2=1` flag.\n",
            "  warnings.warn('Caffe2 support is not enabled in this PyTorch build. '\n",
            "/usr/local/lib/python3.7/dist-packages/past/types/oldstr.py:5: DeprecationWarning:\n",
            "\n",
            "Using or importing the ABCs from 'collections' instead of from 'collections.abc' is deprecated since Python 3.3,and in 3.9 it will stop working\n",
            "\n",
            "/usr/local/lib/python3.7/dist-packages/intervaltree/intervaltree.py:37: DeprecationWarning:\n",
            "\n",
            "Using or importing the ABCs from 'collections' instead of from 'collections.abc' is deprecated since Python 3.3,and in 3.9 it will stop working\n",
            "\n",
            "/usr/local/lib/python3.7/dist-packages/jupyter_client/ssh/tunnel.py:57: DeprecationWarning:\n",
            "\n",
            "zmq.utils.strtypes is deprecated in pyzmq 23.\n",
            "\n",
            "/usr/local/lib/python3.7/dist-packages/librosa/core/constantq.py:1059: DeprecationWarning:\n",
            "\n",
            "`np.complex` is a deprecated alias for the builtin `complex`. To silence this warning, use `complex` by itself. Doing this will not modify any behavior and is safe. If you specifically wanted the numpy scalar type, use `np.complex128` here.\n",
            "Deprecated in NumPy 1.20; for more details and guidance: https://numpy.org/devdocs/release/1.20.0-notes.html#deprecations\n",
            "\n"
          ]
        },
        {
          "output_type": "stream",
          "name": "stdout",
          "text": [
            "Downloading http://dlib.net/files/shape_predictor_68_face_landmarks.dat.bz2 to /root/mlxtend_data/shape_predictor_68_face_landmarks.dat.bz2\n"
          ]
        },
        {
          "output_type": "stream",
          "name": "stderr",
          "text": [
            "/usr/local/lib/python3.7/dist-packages/nbconvert/filters/strings.py:22: DeprecationWarning:\n",
            "\n",
            "defusedxml.cElementTree is deprecated, import from defusedxml.ElementTree instead.\n",
            "\n",
            "/usr/local/lib/python3.7/dist-packages/nibabel/quaternions.py:31: DeprecationWarning:\n",
            "\n",
            "`np.float` is a deprecated alias for the builtin `float`. To silence this warning, use `float` by itself. Doing this will not modify any behavior and is safe. If you specifically wanted the numpy scalar type, use `np.float64` here.\n",
            "Deprecated in NumPy 1.20; for more details and guidance: https://numpy.org/devdocs/release/1.20.0-notes.html#deprecations\n",
            "\n",
            "/usr/lib/python3.7/pkgutil.py:92: UserWarning:\n",
            "\n",
            "The DICOM readers are highly experimental, unstable, and only work for Siemens time-series at the moment\n",
            "Please use with caution.  We would be grateful for your help in improving them\n",
            "\n",
            "/usr/local/lib/python3.7/dist-packages/nltk/twitter/__init__.py:21: UserWarning:\n",
            "\n",
            "The twython library has not been installed. Some functionality from the twitter package will not be available.\n",
            "\n",
            "/usr/local/lib/python3.7/dist-packages/pip/_vendor/packaging/version.py:130: DeprecationWarning:\n",
            "\n",
            "Creating a LegacyVersion has been deprecated and will be removed in the next major release\n",
            "\n",
            "/usr/local/lib/python3.7/dist-packages/pip/_vendor/packaging/version.py:130: DeprecationWarning:\n",
            "\n",
            "Creating a LegacyVersion has been deprecated and will be removed in the next major release\n",
            "\n",
            "/usr/lib/python3.7/pkgutil.py:92: UserWarning: Viewer requires Qt\n",
            "/usr/local/lib/python3.7/dist-packages/sphinx/websupport/__init__.py:25: RemovedInSphinx20Warning: sphinx.websupport module is now provided as sphinxcontrib-websupport. sphinx.websupport will be removed at Sphinx-2.0. Please use the package instead.\n",
            "/usr/local/lib/python3.7/dist-packages/marshmallow/fields.py:569: RemovedInMarshmallow4Warning: The 'missing' argument to fields is deprecated. Use 'load_default' instead.\n",
            "/usr/local/lib/python3.7/dist-packages/tensorboard/_vendor/html5lib/filters/sanitizer.py:29: DeprecationWarning: html5lib's sanitizer is deprecated; see https://github.com/html5lib/html5lib-python/issues/443 and please let us know if Bleach is unsuitable for your needs\n",
            "/usr/local/lib/python3.7/dist-packages/torch/distributed/_sharded_tensor/__init__.py:10: DeprecationWarning: torch.distributed._sharded_tensor will be deprecated, use torch.distributed._shard.sharded_tensor instead\n",
            "/usr/local/lib/python3.7/dist-packages/torch/distributed/_sharding_spec/__init__.py:10: DeprecationWarning: torch.distributed._sharding_spec will be deprecated, use torch.distributed._shard.sharding_spec instead\n"
          ]
        },
        {
          "output_type": "stream",
          "name": "stdout",
          "text": [
            "No CUDA runtime is found, using CUDA_HOME='/usr/local/cuda'\n",
            "Cython              collections         kapre               resource\n",
            "IPython             colorcet            keras               rlcompleter\n",
            "OpenGL              colorlover          keras_preprocessing rmagic\n",
            "PIL                 colorsys            keyword             rpy2\n",
            "ScreenResolution    community           kiwisolver          rsa\n",
            "__future__          compileall          korean_lunar_calendar runpy\n",
            "_abc                concurrent          langcodes           samples\n",
            "_ast                configparser        lib2to3             sched\n",
            "_asyncio            cons                libfuturize         scipy\n",
            "_bisect             contextlib          libpasteurize       scs\n",
            "_blake2             contextlib2         librosa             seaborn\n",
            "_bootlocale         contextvars         lightgbm            secrets\n",
            "_bz2                convertdate         linecache           select\n",
            "_cffi_backend       copy                llvmlite            selectors\n",
            "_codecs             copyreg             lmdb                send2trash\n",
            "_codecs_cn          crashtest           locale              setuptools\n",
            "_codecs_hk          crcmod              locket              setuptools_git\n",
            "_codecs_iso2022     crypt               logging             shapely\n",
            "_codecs_jp          csimdjson           lsb_release         shelve\n",
            "_codecs_kr          csv                 lunarcalendar       shlex\n",
            "_codecs_tw          ctypes              lxml                shutil\n",
            "_collections        cufflinks           lzma                signal\n",
            "_collections_abc    curses              macpath             simdjson\n",
            "_compat_pickle      cv2                 mailbox             site\n",
            "_compression        cvxopt              mailcap             sitecustomize\n",
            "_contextvars        cvxpy               markdown            six\n",
            "_crypt              cycler              markupsafe          skimage\n",
            "_csv                cymem               marshal             sklearn\n",
            "_ctypes             cython              marshmallow         sklearn_pandas\n",
            "_ctypes_test        cythonmagic         math                slugify\n",
            "_curses             daft                matplotlib          smart_open\n",
            "_curses_panel       dask                matplotlib_venn     smtpd\n",
            "_cvxcore            dataclasses         mimetypes           smtplib\n",
            "_datetime           datascience         missingno           sndhdr\n",
            "_dbm                datetime            mistune             snowballstemmer\n",
            "_decimal            dateutil            mizani              socket\n",
            "_distutils_hack     dbm                 mlxtend             socketserver\n",
            "_dlib_pybind11      dbus                mmap                socks\n",
            "_dummy_thread       debugpy             modulefinder        sockshandler\n",
            "_ecos               decimal             more_itertools      softwareproperties\n",
            "_elementtree        decorator           moviepy             sortedcontainers\n",
            "_functools          defusedxml          mpmath              soundfile\n",
            "_hashlib            descartes           msgpack             spacy\n",
            "_heapq              difflib             multidict           spacy_legacy\n",
            "_imp                dill                multipledispatch    spacy_loggers\n",
            "_io                 dis                 multiprocessing     sphinx\n",
            "_json               distributed         multitasking        spwd\n",
            "_locale             distutils           murmurhash          sql\n",
            "_lsprof             dlib                music21             sqlalchemy\n",
            "_lzma               docs                natsort             sqlite3\n",
            "_markupbase         doctest             nbconvert           sqlparse\n",
            "_md5                docutils            nbformat            sre_compile\n",
            "_multibytecodec     dopamine            netCDF4             sre_constants\n",
            "_multiprocessing    dot_parser          netrc               sre_parse\n",
            "_opcode             dummy_threading     networkx            srsly\n",
            "_operator           easydict            nibabel             ssl\n",
            "_osx_support        ecos                nis                 stan\n",
            "_pickle             editdistance        nisext              stat\n",
            "_plotly_future_     ee                  nltk                statistics\n",
            "_plotly_utils       email               nntplib             statsmodels\n",
            "_posixsubprocess    en_core_web_sm      notebook            storemagic\n",
            "_py_abc             encodings           ntpath              string\n",
            "_pydecimal          entrypoints         nturl2path          stringprep\n",
            "_pyio               enum                numba               struct\n",
            "_pyrsistent_version ephem               numbergen           subprocess\n",
            "_pytest             erfa                numbers             sunau\n",
            "_queue              errno               numexpr             symbol\n",
            "_random             et_xmlfile          numpy               sympy\n",
            "_rinterface_cffi_abi etils               oauth2client        sympyprinting\n",
            "_rinterface_cffi_api etuples             oauthlib            symtable\n",
            "_scs_direct         fa2                 ogr                 sys\n",
            "_scs_indirect       fastai              okgrade             sysconfig\n",
            "_sha1               fastcore            opcode              syslog\n",
            "_sha256             fastdownload        openpyxl            tables\n",
            "_sha3               fastdtw             operator            tabnanny\n",
            "_sha512             fastjsonschema      opt_einsum          tabulate\n",
            "_signal             fastprogress        optparse            tarfile\n",
            "_sitebuiltins       fastrlock           os                  tblib\n",
            "_socket             faulthandler        osgeo               telnetlib\n",
            "_soundfile          fcntl               osqp                tempfile\n",
            "_sqlite3            feather             osqppurepy          tenacity\n",
            "_sre                filecmp             osr                 tensorboard\n",
            "_ssl                fileinput           ossaudiodev         tensorboard_data_server\n",
            "_stat               filelock            packaging           tensorboard_plugin_wit\n",
            "_string             firebase_admin      palettable          tensorflow\n",
            "_strptime           fix_yahoo_finance   pandas              tensorflow_datasets\n",
            "_struct             flask               pandas_datareader   tensorflow_estimator\n",
            "_symtable           flatbuffers         pandas_gbq          tensorflow_gcs_config\n",
            "_sysconfigdata_m_linux_x86_64-linux-gnu fnmatch             pandas_profiling    tensorflow_hub\n",
            "_sysconfigdata_m_x86_64-linux-gnu folium              pandocfilters       tensorflow_io_gcs_filesystem\n",
            "_testbuffer         formatter           panel               tensorflow_metadata\n",
            "_testcapi           fractions           param               tensorflow_probability\n",
            "_testimportmultiple frozenlist          parser              termcolor\n",
            "_testmultiphase     fsspec              parso               terminado\n",
            "_thread             ftplib              partd               termios\n",
            "_threading_local    functools           past                test\n",
            "_tkinter            future              pasta               testpath\n",
            "_tracemalloc        gast                pastel              tests\n",
            "_warnings           gc                  pathlib             text_unidecode\n",
            "_weakref            gdal                pathy               textblob\n",
            "_weakrefset         gdalconst           patsy               textwrap\n",
            "_xxtestfuzz         gdalnumeric         pdb                 thinc\n",
            "_yaml               gdown               pep517              this\n",
            "abc                 genericpath         pexpect             threading\n",
            "absl                gensim              pickle              threadpoolctl\n",
            "aeppl               geographiclib       pickleshare         tifffile\n",
            "aesara              geopy               pickletools         time\n",
            "aifc                getopt              pip                 timeit\n",
            "aiohttp             getpass             pipes               tkinter\n",
            "aiosignal           gettext             piptools            tlz\n",
            "alabaster           gi                  pkg_resources       token\n",
            "albumentations      gin                 pkgutil             tokenize\n",
            "altair              glob                platform            toml\n",
            "antigravity         glob2               plistlib            tomli\n",
            "apiclient           gnm                 plotly              toolz\n",
            "appdirs             google_auth_httplib2 plotlywidget        torch\n",
            "apt                 google_auth_oauthlib plotnine            torchaudio\n",
            "apt_inst            google_drive_downloader pluggy              torchgen\n",
            "apt_pkg             googleapiclient     pooch               torchsummary\n",
            "aptsources          googlesearch        poplib              torchtext\n",
            "argparse            graphviz            portpicker          torchvision\n",
            "array               greenlet            posix               tornado\n",
            "arviz               gridfs              posixpath           tqdm\n",
            "ast                 grp                 pprint              trace\n",
            "astor               grpc                prefetch_generator  traceback\n",
            "astropy             gspread             preshed             tracemalloc\n",
            "astunparse          gspread_dataframe   prettytable         traitlets\n",
            "async_timeout       gym                 profile             tree\n",
            "asynchat            gym_notices         progressbar         tty\n",
            "asyncio             gzip                promise             turtle\n",
            "asyncore            h5py                prompt_toolkit      tweepy\n",
            "asynctest           hashlib             prophet             typeguard\n",
            "atari_py            heapdict            pstats              typer\n",
            "atexit              heapq               psutil              types\n",
            "atomicwrites        hijri_converter     psycopg2            typing\n",
            "attr                hmac                pty                 typing_extensions\n",
            "attrs               holidays            ptyprocess          tzlocal\n",
            "audioop             holoviews           pvectorc            ujson\n",
            "audioread           html                pwd                 unicodedata\n",
            "autograd            html5lib            py                  unification\n",
            "autoreload          http                py_compile          unittest\n",
            "babel               httpimport          pyarrow             uritemplate\n",
            "backcall            httplib2            pyasn1              urllib\n",
            "base64              httplib2shim        pyasn1_modules      urllib3\n",
            "bdb                 httpstan            pyclbr              uu\n",
            "bin                 humanize            pycocotools         uuid\n",
            "binascii            hyperopt            pycparser           vega_datasets\n",
            "binhex              idna                pyct                venv\n",
            "bisect              imageio             pydantic            vis\n",
            "bleach              imagesize           pydata_google_auth  warnings\n",
            "blis                imaplib             pydoc               wasabi\n",
            "bokeh               imblearn            pydoc_data          wave\n",
            "boost               imgaug              pydot               wcwidth\n",
            "branca              imghdr              pydot_ng            weakref\n",
            "bs4                 imp                 pydotplus           webargs\n",
            "bson                importlib           pydrive             webbrowser\n",
            "builtins            importlib_metadata  pyemd               webencodings\n",
            "bz2                 importlib_resources pyexpat             werkzeug\n",
            "cProfile            imutils             pygments            wheel\n",
            "cachecontrol        inflect             pygtkcompat         widgetsnbextension\n",
            "cached_property     inspect             pylab               wordcloud\n",
            "cachetools          intervaltree        pylev               wrapt\n",
            "caffe2              io                  pymc                wsgiref\n",
            "calendar            ipaddress           pymeeus             xarray\n",
            "catalogue           ipykernel           pymongo             xarray_einstats\n",
            "certifi             ipykernel_launcher  pymystem3           xdrlib\n",
            "cffi                ipython_genutils    pyparsing           xgboost\n",
            "cftime              ipywidgets          pyrsistent          xkit\n",
            "cgi                 isympy              pysndfile           xlrd\n",
            "cgitb               itertools           pytest              xlwt\n",
            "chardet             itsdangerous        python_utils        xml\n",
            "charset_normalizer  jax                 pytz                xmlrpc\n",
            "chess               jaxlib              pyviz_comms         xxlimited\n",
            "chunk               jieba               pywt                xxsubtype\n",
            "clang               jinja2              pyximport           yaml\n",
            "click               joblib              qdldl               yarl\n",
            "client              jpeg4py             qudida              yellowbrick\n",
            "clikit              json                queue               zict\n",
            "cloudpickle         jsonschema          quopri              zipapp\n",
            "cmake               jupyter             random              zipfile\n",
            "cmath               jupyter_client      re                  zipimport\n",
            "cmd                 jupyter_console     readline            zipp\n",
            "cmdstanpy           jupyter_core        regex               zlib\n",
            "code                jupyterlab_plotly   reprlib             zmq\n",
            "codecs              jupyterlab_widgets  requests            \n",
            "codeop              kaggle              requests_oauthlib   \n",
            "colab               kanren              resampy             \n",
            "\n",
            "Enter any module name to get more help.  Or, type \"modules spam\" to search\n",
            "for modules whose name or summary contain the string \"spam\".\n",
            "\n"
          ]
        },
        {
          "output_type": "stream",
          "name": "stderr",
          "text": [
            "/usr/lib/python3.7/pkgutil.py:107: VisibleDeprecationWarning: zmq.eventloop.minitornado is deprecated in pyzmq 14.0 and will be removed.\n",
            "    Install tornado itself to use zmq with the tornado IOLoop.\n",
            "    \n"
          ]
        }
      ]
    },
    {
      "cell_type": "markdown",
      "source": [
        "# Tensorflow"
      ],
      "metadata": {
        "id": "ZfX64-Lsj62W"
      }
    },
    {
      "cell_type": "code",
      "source": [
        "import tensorflow as tf\n",
        "# for drawing generated images by plotting\n",
        "import matplotlib.pyplot as plt "
      ],
      "metadata": {
        "id": "8R1c3EnHj_Mj"
      },
      "execution_count": 7,
      "outputs": []
    },
    {
      "cell_type": "markdown",
      "source": [
        "# Read images"
      ],
      "metadata": {
        "id": "MaRmFOsdfHAI"
      }
    },
    {
      "cell_type": "code",
      "execution_count": 2,
      "metadata": {
        "colab": {
          "base_uri": "https://localhost:8080/"
        },
        "id": "IRrNDpPId-UP",
        "outputId": "586ed546-7d15-41f6-9dff-a996a0af7757"
      },
      "outputs": [
        {
          "output_type": "stream",
          "name": "stdout",
          "text": [
            "hello world\n"
          ]
        }
      ],
      "source": [
        "print(\"hello world\")"
      ]
    }
  ]
}