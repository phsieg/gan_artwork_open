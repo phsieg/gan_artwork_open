{
  "nbformat": 4,
  "nbformat_minor": 0,
  "metadata": {
    "colab": {
      "provenance": [],
      "authorship_tag": "ABX9TyNkFiDEGIJ0iPBdE0ymWe1H",
      "include_colab_link": true
    },
    "kernelspec": {
      "name": "python3",
      "display_name": "Python 3"
    },
    "language_info": {
      "name": "python"
    }
  },
  "cells": [
    {
      "cell_type": "markdown",
      "metadata": {
        "id": "view-in-github",
        "colab_type": "text"
      },
      "source": [
        "<a href=\"https://colab.research.google.com/github/phsieg/gan_artwork_open/blob/main/cyclegan_artwork.ipynb\" target=\"_parent\"><img src=\"https://colab.research.google.com/assets/colab-badge.svg\" alt=\"Open In Colab\"/></a>"
      ]
    },
    {
      "cell_type": "markdown",
      "source": [
        "# README\n",
        "This notebook shall be used for CycleGAN implementation as referenced in this overview article:\n",
        "https://neptune.ai/blog/6-gan-architectures"
      ],
      "metadata": {
        "id": "H8De8vKTNcr9"
      }
    }
  ]
}